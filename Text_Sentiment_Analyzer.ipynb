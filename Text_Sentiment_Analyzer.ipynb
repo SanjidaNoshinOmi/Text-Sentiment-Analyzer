{
  "nbformat": 4,
  "nbformat_minor": 0,
  "metadata": {
    "colab": {
      "provenance": []
    },
    "kernelspec": {
      "name": "python3",
      "display_name": "Python 3"
    },
    "language_info": {
      "name": "python"
    }
  },
  "cells": [
    {
      "cell_type": "code",
      "execution_count": null,
      "metadata": {
        "colab": {
          "base_uri": "https://localhost:8080/"
        },
        "id": "CB7Ss8wKnthb",
        "outputId": "90580530-b975-40ad-dad4-a183c25cee3e"
      },
      "outputs": [
        {
          "output_type": "stream",
          "name": "stdout",
          "text": [
            "Requirement already satisfied: textblob in /usr/local/lib/python3.11/dist-packages (0.19.0)\n",
            "Requirement already satisfied: nltk>=3.9 in /usr/local/lib/python3.11/dist-packages (from textblob) (3.9.1)\n",
            "Requirement already satisfied: click in /usr/local/lib/python3.11/dist-packages (from nltk>=3.9->textblob) (8.2.0)\n",
            "Requirement already satisfied: joblib in /usr/local/lib/python3.11/dist-packages (from nltk>=3.9->textblob) (1.5.0)\n",
            "Requirement already satisfied: regex>=2021.8.3 in /usr/local/lib/python3.11/dist-packages (from nltk>=3.9->textblob) (2024.11.6)\n",
            "Requirement already satisfied: tqdm in /usr/local/lib/python3.11/dist-packages (from nltk>=3.9->textblob) (4.67.1)\n",
            "[nltk_data] Downloading package brown to /root/nltk_data...\n",
            "[nltk_data]   Unzipping corpora/brown.zip.\n",
            "[nltk_data] Downloading package punkt_tab to /root/nltk_data...\n",
            "[nltk_data]   Unzipping tokenizers/punkt_tab.zip.\n",
            "[nltk_data] Downloading package wordnet to /root/nltk_data...\n",
            "[nltk_data] Downloading package averaged_perceptron_tagger_eng to\n",
            "[nltk_data]     /root/nltk_data...\n",
            "[nltk_data]   Unzipping taggers/averaged_perceptron_tagger_eng.zip.\n",
            "[nltk_data] Downloading package conll2000 to /root/nltk_data...\n",
            "[nltk_data]   Unzipping corpora/conll2000.zip.\n",
            "[nltk_data] Downloading package movie_reviews to /root/nltk_data...\n",
            "[nltk_data]   Unzipping corpora/movie_reviews.zip.\n",
            "Finished.\n"
          ]
        }
      ],
      "source": [
        "!pip install textblob\n",
        "!python -m textblob.download_corpora"
      ]
    },
    {
      "cell_type": "code",
      "source": [
        "from textblob import TextBlob\n",
        "\n",
        "def Text_Sentiment_Analyzer(text):\n",
        "    t = TextBlob(text)\n",
        "    polarity = t.sentiment.polarity\n",
        "\n",
        "    if polarity > 0:\n",
        "        return \"Positive 😊\"\n",
        "    elif polarity < 0:\n",
        "        return \"Negative 😞\"\n",
        "    else:\n",
        "        return \"Neutral 😐\"\n",
        "\n",
        "print(\"Welcome to the Text Sentiment Analyzer!!\")\n",
        "print()\n",
        "# test case1\n",
        "text = input(\"Enter a sentence: \")\n",
        "result = Text_Sentiment_Analyzer(text)\n",
        "print(\"Sentiment:\", result)\n",
        "#test case2\n",
        "text = input(\"Enter a sentence: \")\n",
        "result = Text_Sentiment_Analyzer(text)\n",
        "print(\"Sentiment:\", result)\n",
        "#test case3\n",
        "text = input(\"Enter a sentence: \")\n",
        "result = Text_Sentiment_Analyzer(text)\n",
        "print(\"Sentiment:\", result)"
      ],
      "metadata": {
        "colab": {
          "base_uri": "https://localhost:8080/"
        },
        "id": "DMQUwIEX3Ghg",
        "outputId": "dfe8096b-33bc-4d74-b6bd-1e6c5fd04876"
      },
      "execution_count": 11,
      "outputs": [
        {
          "output_type": "stream",
          "name": "stdout",
          "text": [
            "Welcome to the Text Sentiment Analyzer!!\n",
            "\n",
            "Enter a sentence: I love NLP\n",
            "Sentiment: Positive 😊\n",
            "Enter a sentence: I hate traffic\n",
            "Sentiment: Negative 😞\n",
            "Enter a sentence: I support both teams.\n",
            "Sentiment: Neutral 😐\n"
          ]
        }
      ]
    }
  ]
}